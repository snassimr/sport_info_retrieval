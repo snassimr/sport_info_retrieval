{
 "cells": [
  {
   "cell_type": "markdown",
   "metadata": {},
   "source": [
    "# Setup"
   ]
  },
  {
   "cell_type": "code",
   "execution_count": 2,
   "metadata": {},
   "outputs": [],
   "source": [
    "import os\n",
    "import logging\n",
    "\n",
    "from service_utils import *\n",
    "from app_utils import *\n",
    "\n",
    "## Load env variables , to be adjusted\n",
    "load_config_from_yaml(\"config.yaml\") \n",
    "\n",
    "## Initialize logging\n",
    "logging.basicConfig(filename='log.log', level=logging.INFO, \n",
    "                    format='%(asctime)s: %(message)s', datefmt='%m/%d/%Y %I:%M:%S %p')"
   ]
  },
  {
   "cell_type": "markdown",
   "metadata": {},
   "source": [
    "# Set parameters"
   ]
  },
  {
   "cell_type": "code",
   "execution_count": 2,
   "metadata": {},
   "outputs": [],
   "source": [
    "YOUTUBE_URL = \"https://www.youtube.com/watch?v=3j_daNHio4o\"\n",
    "## Data\n",
    "DATA_FOLDER  = 'data'\n",
    "AUDIO_FOLDER = os.path.join(DATA_FOLDER, \"audio\")\n",
    "TEXT_FOLDER  = os.path.join(DATA_FOLDER, \"text\")\n",
    "## Audio-to-text\n",
    "AUDIO_TO_TEXT_MODEL_FOLDER = os.environ.get(\"AUDIO_TO_TEXT_MODEL_FOLDER\")\n",
    "AUDIO_TO_TEXT_MODEL_NAME   = os.environ.get(\"AUDIO_TO_TEXT_MODEL_NAME\")\n",
    "AUDIO_TO_TEXT_MODEL_PATH   = os.path.join(AUDIO_TO_TEXT_MODEL_FOLDER, AUDIO_TO_TEXT_MODEL_NAME)"
   ]
  },
  {
   "cell_type": "markdown",
   "metadata": {},
   "source": [
    "# Download youtube audio"
   ]
  },
  {
   "cell_type": "code",
   "execution_count": 3,
   "metadata": {},
   "outputs": [
    {
     "name": "stdout",
     "output_type": "stream",
     "text": [
      "FULL MATCH: Real Madrid 2 - 3 Barça (2017) Messi grabs dramatic late win in #ElClásico!! audio size is : 37793488 bytes.\n"
     ]
    }
   ],
   "source": [
    "VIDEO_NAME, AUDIO_FILE_PATH = download_youtube_audio(YOUTUBE_URL, AUDIO_FOLDER)\n",
    "\n",
    "print(f\"{VIDEO_NAME} audio size is : {os.path.getsize(AUDIO_FILE_PATH)} bytes.\")"
   ]
  },
  {
   "cell_type": "markdown",
   "metadata": {},
   "source": [
    "# Get audio text transcript"
   ]
  },
  {
   "cell_type": "code",
   "execution_count": 4,
   "metadata": {},
   "outputs": [
    {
     "name": "stdout",
     "output_type": "stream",
     "text": [
      "FULL MATCH: Real Madrid 2 - 3 Barça (2017) Messi grabs dramatic late win in #ElClásico!! text size is : 62203 bytes.\n"
     ]
    }
   ],
   "source": [
    "TEXT_FILE_PATH   = os.path.join(TEXT_FOLDER, VIDEO_NAME + '.txt')\n",
    "\n",
    "text = get_audio_text(AUDIO_FILE_PATH, AUDIO_TO_TEXT_MODEL_PATH)\n",
    "\n",
    "free_gpu_memory()\n",
    "\n",
    "save_text(TEXT_FILE_PATH, text)\n",
    "\n",
    "print(f\"{VIDEO_NAME} text size is : {os.path.getsize(TEXT_FILE_PATH)} bytes.\")"
   ]
  },
  {
   "cell_type": "markdown",
   "metadata": {},
   "source": [
    "# Retrieve info"
   ]
  },
  {
   "cell_type": "code",
   "execution_count": 5,
   "metadata": {},
   "outputs": [
    {
     "data": {
      "text/html": [
       "\n",
       "    <div style=\"font-family: Arial, sans-serif;\">\n",
       "        <h2>Video : FULL MATCH: Real Madrid 2 - 3 Barça (2017) Messi grabs dramatic late win in #ElClásico!!</h2>\n",
       "        <h3>Basic Information</h3>\n",
       "        <ul>\n",
       "    <li>Sport: Football</li><li>Country: Spain</li><li>Competition: La Liga</li><li>City: Madrid</li><li>Facility: Santiago Bernabéu</li>\n",
       "        </ul>\n",
       "        <h3>Game Result</h3>\n",
       "        <p>Real Madrid 2 - 3 Barcelona</p>\n",
       "        <h3>Timeline</h3>\n",
       "        <ul>\n",
       "    <li>29': Carlos Henrique Casemiro</li><li>33': Lionel Messi</li><li>73': Ivan Rakitic</li><li>86': James Rodriguez</li><li>92': Lionel Messi</li>\n",
       "        </ul>\n",
       "    </div>\n",
       "    "
      ],
      "text/plain": [
       "<IPython.core.display.HTML object>"
      ]
     },
     "metadata": {},
     "output_type": "display_data"
    }
   ],
   "source": [
    "text = read_text(TEXT_FILE_PATH)\n",
    "\n",
    "prompt = generate_prompt(text)\n",
    "\n",
    "info = get_info(prompt, model = \"gpt-4-1106-preview\")\n",
    "\n",
    "display_info(info, VIDEO_NAME)"
   ]
  }
 ],
 "metadata": {
  "kernelspec": {
   "display_name": "vats",
   "language": "python",
   "name": "python3"
  },
  "language_info": {
   "codemirror_mode": {
    "name": "ipython",
    "version": 3
   },
   "file_extension": ".py",
   "mimetype": "text/x-python",
   "name": "python",
   "nbconvert_exporter": "python",
   "pygments_lexer": "ipython3",
   "version": "3.1.0"
  }
 },
 "nbformat": 4,
 "nbformat_minor": 2
}
